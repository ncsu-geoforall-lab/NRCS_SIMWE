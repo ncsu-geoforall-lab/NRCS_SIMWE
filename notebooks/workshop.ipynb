{
 "cells": [
  {
   "cell_type": "markdown",
   "id": "50f99196-f839-4da0-a8e9-26b48e43c960",
   "metadata": {},
   "source": [
    "# NRCS SIMWE Workshop"
   ]
  },
  {
   "cell_type": "code",
   "execution_count": null,
   "id": "e31b62be-c4c7-4fb0-b219-5876d0b5d6e3",
   "metadata": {},
   "outputs": [],
   "source": [
    "import os\n",
    "import subprocess\n",
    "import sys\n",
    "import numpy as np\n",
    "import matplotlib.pyplot as plt\n",
    "from pprint import pprint\n",
    "from PIL import Image \n",
    "import pandas as pd\n",
    "import sqlite3\n",
    "from IPython.display import IFrame\n",
    "\n",
    "\n",
    "# Ask GRASS GIS where its Python packages are.\n",
    "gisbase = subprocess.check_output([\"grass\", \"--config\", \"path\"], text=True).strip()\n",
    "os.environ[\"GISBASE\"] = gisbase\n",
    "print(gisbase)\n",
    "\n",
    "# Ask GRASS GIS where its Python packages are.\n",
    "sys.path.append(\n",
    "    subprocess.check_output([\"grass\", \"--config\", \"python_path\"], text=True).strip()\n",
    ")\n",
    "\n",
    "# Import the GRASS GIS packages we need.\n",
    "import grass.script as gs\n",
    "\n",
    "# Import GRASS Jupyter\n",
    "import grass.jupyter as gj"
   ]
  },
  {
   "cell_type": "markdown",
   "id": "9eea2671-9041-476a-867a-cfe5c494349a",
   "metadata": {},
   "source": [
    "## Create GRASS location and Mapset"
   ]
  },
  {
   "cell_type": "code",
   "execution_count": null,
   "id": "a18e1108-5d85-4645-9565-05f21484b80b",
   "metadata": {},
   "outputs": [],
   "source": [
    "# ! means that we are running a command in the shell\n",
    "!grass -e -c EPSG:code ./grassdata/nrcs_simwe/workshop"
   ]
  },
  {
   "cell_type": "markdown",
   "id": "7e7ecbb0-e8ff-44cb-83f2-5684de59aa76",
   "metadata": {},
   "source": [
    "## Initialize GRASS Jupyter"
   ]
  },
  {
   "cell_type": "code",
   "execution_count": null,
   "id": "9fcc575b-86b3-4a49-82ea-6c95b81febe9",
   "metadata": {},
   "outputs": [],
   "source": [
    "gj.init(\"./grassdata/nrcs_simwe/workshop\")"
   ]
  },
  {
   "cell_type": "code",
   "execution_count": null,
   "id": "09873e2f-c8d1-422f-9c19-554262cbfb67",
   "metadata": {},
   "outputs": [],
   "source": []
  }
 ],
 "metadata": {
  "kernelspec": {
   "display_name": "Python 3 (ipykernel)",
   "language": "python",
   "name": "python3"
  },
  "language_info": {
   "codemirror_mode": {
    "name": "ipython",
    "version": 3
   },
   "file_extension": ".py",
   "mimetype": "text/x-python",
   "name": "python",
   "nbconvert_exporter": "python",
   "pygments_lexer": "ipython3",
   "version": "3.10.12"
  }
 },
 "nbformat": 4,
 "nbformat_minor": 5
}
