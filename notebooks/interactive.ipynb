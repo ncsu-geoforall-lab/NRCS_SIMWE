{
  "cells": [
    {
      "cell_type": "code",
      "execution_count": 90,
      "metadata": {},
      "outputs": [
        {
          "name": "stdout",
          "output_type": "stream",
          "text": [
            "/usr/local/grass83\n"
          ]
        }
      ],
      "source": [
        "import os\n",
        "import subprocess\n",
        "import sys\n",
        "# import numpy as np\n",
        "import matplotlib.pyplot as plt\n",
        "from pprint import pprint\n",
        "from PIL import Image \n",
        "import pandas as pd\n",
        "import sqlite3\n",
        "from IPython.display import IFrame\n",
        "\n",
        "\n",
        "# Ask GRASS GIS where its Python packages are.\n",
        "gisbase = subprocess.check_output([\"grass\", \"--config\", \"path\"], text=True).strip()\n",
        "os.environ[\"GISBASE\"] = gisbase\n",
        "print(gisbase)\n",
        "\n",
        "# Ask GRASS GIS where its Python packages are.\n",
        "sys.path.append(\n",
        "    subprocess.check_output([\"grass\", \"--config\", \"python_path\"], text=True).strip()\n",
        ")\n",
        "\n",
        "# Import the GRASS GIS packages we need.\n",
        "import grass.script as gs\n",
        "\n",
        "# Import GRASS Jupyter\n",
        "import grass.jupyter as gj"
      ]
    },
    {
      "cell_type": "code",
      "execution_count": 91,
      "metadata": {},
      "outputs": [
        {
          "data": {
            "text/plain": [
              "<grass.jupyter.setup._JupyterGlobalSession at 0x7ef1c4b63c40>"
            ]
          },
          "execution_count": 91,
          "metadata": {},
          "output_type": "execute_result"
        }
      ],
      "source": [
        "gisdb = os.path.join(os.getenv('HOME'), 'grassdata')\n",
        "site = 'tx069-playas'\n",
        "gj.init(gisdb, site, 'basic')"
      ]
    },
    {
      "cell_type": "code",
      "execution_count": 92,
      "metadata": {},
      "outputs": [
        {
          "name": "stdout",
          "output_type": "stream",
          "text": [
            "projection: 1 (UTM)\n",
            "zone:       13\n",
            "datum:      wgs84\n",
            "ellipsoid:  wgs84\n",
            "north:      3828447.35560415\n",
            "south:      3811791.35560415\n",
            "west:       755357.33549331\n",
            "east:       776005.33549331\n",
            "nsres:      8\n",
            "ewres:      8\n",
            "rows:       2082\n",
            "cols:       2581\n",
            "cells:      5373642\n"
          ]
        }
      ],
      "source": [
        "gs.run_command('g.region', raster='elevation', flags='pa')"
      ]
    },
    {
      "cell_type": "code",
      "execution_count": 94,
      "metadata": {},
      "outputs": [
        {
          "data": {
            "application/vnd.jupyter.widget-view+json": {
              "model_id": "8e5894a4067e4a6b91a62eab35b50779",
              "version_major": 2,
              "version_minor": 0
            },
            "text/plain": [
              "Map(center=[0.0, 0.0], controls=(ZoomControl(options=['position', 'zoom_in_text', 'zoom_in_title', 'zoom_out_t\u2026"
            ]
          },
          "execution_count": 94,
          "metadata": {},
          "output_type": "execute_result"
        }
      ],
      "source": [
        "vs_map = gj.InteractiveMap()\n",
        "\n",
        "vs_map.add_raster(\"elevation\", opacity=0.8)\n",
        "vs_map.add_raster(\"aspect\", opacity=0.5)\n",
        "vs_map.add_layer_control()\n",
        "# vs_map.add_query_button()\n",
        "vs_map.show()"
      ]
    },
    {
      "cell_type": "code",
      "execution_count": 26,
      "metadata": {},
      "outputs": [
        {
          "name": "stdout",
          "output_type": "stream",
          "text": [
            " +----------------------------------------------------------------------------+\n",
            " | Map:      aspect                         Date: Thu Jun  6 18:25:17 2024    |\n",
            " | Mapset:   basic                          Login of Creator: coreywhite      |\n",
            " | Project:  tx069-playas                                                     |\n",
            " | DataBase: /home/coreywhite/grassdata                                       |\n",
            " | Title:    Aspect counterclockwise in degrees from east                     |\n",
            " | Timestamp: none                                                            |\n",
            " |----------------------------------------------------------------------------|\n",
            " |                                                                            |\n",
            " |   Type of Map:  raster               Number of Categories: 360             |\n",
            " |   Data Type:    FCELL                Semantic label: (none)                |\n",
            " |   Rows:         2082                                                       |\n",
            " |   Columns:      2581                                                       |\n",
            " |   Total Cells:  5373642                                                    |\n",
            " |        Projection: UTM (zone 13)                                           |\n",
            " |            N: 3828447.35560415    S: 3811791.35560415   Res:     8         |\n",
            " |            E: 776005.33549331    W: 755357.33549331   Res:     8           |\n",
            " |   Range of data:    min = 0  max = 360                                     |\n",
            " |                                                                            |\n",
            " |   Data Source:                                                             |\n",
            " |    raster elevation file elevation                                         |\n",
            " |                                                                            |\n",
            " |                                                                            |\n",
            " |   Data Description:                                                        |\n",
            " |    generated by r.slope.aspect                                             |\n",
            " |                                                                            |\n",
            " |   Comments:                                                                |\n",
            " |    aspect map elev = elevation                                             |\n",
            " |    zfactor = 1.00                                                          |\n",
            " |    min_slope = 0.000000                                                    |\n",
            " |                                                                            |\n",
            " |    r.slope.aspect --overwrite elevation=\"elevation\" slope=\"slope\" aspec\\   |\n",
            " |    t=\"aspect\" format=\"degrees\" precision=\"FCELL\" pcurvature=\"pcurv\" tcu\\   |\n",
            " |    rvature=\"tcurv\" dx=\"dx\" dy=\"dy\" zscale=1.0 min_slope=0.0 nprocs=6 me\\   |\n",
            " |    mory=300                                                                |\n",
            " |                                                                            |\n",
            " +----------------------------------------------------------------------------+\n",
            "\n"
          ]
        }
      ],
      "source": [
        "gs.run_command('r.info', map='aspect') "
      ]
    }
  ],
  "metadata": {
    "kernelspec": {
      "display_name": "venv",
      "language": "python",
      "name": "python3"
    },
    "language_info": {
      "codemirror_mode": {
        "name": "ipython",
        "version": 3
      },
      "file_extension": ".py",
      "mimetype": "text/x-python",
      "name": "python",
      "nbconvert_exporter": "python",
      "pygments_lexer": "ipython3",
      "version": "3.10.12"
    }
  },
  "nbformat": 4,
  "nbformat_minor": 2
}
